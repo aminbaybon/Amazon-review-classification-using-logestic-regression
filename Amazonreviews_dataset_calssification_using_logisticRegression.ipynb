{
  "metadata": {
    "kernelspec": {
      "language": "python",
      "display_name": "Python 3",
      "name": "python3"
    },
    "language_info": {
      "pygments_lexer": "ipython3",
      "nbconvert_exporter": "python",
      "version": "3.6.4",
      "file_extension": ".py",
      "codemirror_mode": {
        "name": "ipython",
        "version": 3
      },
      "name": "python",
      "mimetype": "text/x-python"
    },
    "colab": {
      "provenance": [],
      "include_colab_link": true
    }
  },
  "nbformat_minor": 0,
  "nbformat": 4,
  "cells": [
    {
      "cell_type": "markdown",
      "metadata": {
        "id": "view-in-github",
        "colab_type": "text"
      },
      "source": [
        "<a href=\"https://colab.research.google.com/github/aminbaybon/Amazon_review_classification/blob/main/Amazonreviews_dataset_calssification_using_logisticRegression.ipynb\" target=\"_parent\"><img src=\"https://colab.research.google.com/assets/colab-badge.svg\" alt=\"Open In Colab\"/></a>"
      ]
    },
    {
      "cell_type": "code",
      "source": [
        "import numpy as np\n",
        "import pandas as pd\n",
        "import seaborn as sns\n",
        "import bz2\n",
        "import re\n",
        "import os\n",
        "import gc\n",
        "import random"
      ],
      "metadata": {
        "execution": {
          "iopub.status.busy": "2023-07-23T08:01:00.464684Z",
          "iopub.execute_input": "2023-07-23T08:01:00.465768Z",
          "iopub.status.idle": "2023-07-23T08:01:00.471581Z",
          "shell.execute_reply.started": "2023-07-23T08:01:00.465729Z",
          "shell.execute_reply": "2023-07-23T08:01:00.469975Z"
        },
        "trusted": true,
        "id": "QE_0aO_kjHWu"
      },
      "execution_count": null,
      "outputs": []
    },
    {
      "cell_type": "code",
      "source": [
        "from nltk.tokenize import TweetTokenizer"
      ],
      "metadata": {
        "execution": {
          "iopub.status.busy": "2023-07-23T08:01:03.416647Z",
          "iopub.execute_input": "2023-07-23T08:01:03.417021Z",
          "iopub.status.idle": "2023-07-23T08:01:04.234359Z",
          "shell.execute_reply.started": "2023-07-23T08:01:03.416991Z",
          "shell.execute_reply": "2023-07-23T08:01:04.232489Z"
        },
        "trusted": true,
        "id": "LDWyaNrjjHWz"
      },
      "execution_count": null,
      "outputs": []
    },
    {
      "cell_type": "code",
      "source": [
        "print(os.listdir(\"../input/amazonreviews/\"))"
      ],
      "metadata": {
        "execution": {
          "iopub.status.busy": "2023-07-23T08:01:07.171334Z",
          "iopub.execute_input": "2023-07-23T08:01:07.172017Z",
          "iopub.status.idle": "2023-07-23T08:01:07.189246Z",
          "shell.execute_reply.started": "2023-07-23T08:01:07.171981Z",
          "shell.execute_reply": "2023-07-23T08:01:07.188293Z"
        },
        "trusted": true,
        "id": "XezpPKQdjHW0"
      },
      "execution_count": null,
      "outputs": []
    },
    {
      "cell_type": "code",
      "source": [
        "train_file = bz2.BZ2File('../input/amazonreviews/train.ft.txt.bz2')\n",
        "test_file = bz2.BZ2File('../input/amazonreviews/test.ft.txt.bz2')"
      ],
      "metadata": {
        "execution": {
          "iopub.status.busy": "2023-07-23T08:01:09.298103Z",
          "iopub.execute_input": "2023-07-23T08:01:09.298740Z",
          "iopub.status.idle": "2023-07-23T08:01:09.306808Z",
          "shell.execute_reply.started": "2023-07-23T08:01:09.298697Z",
          "shell.execute_reply": "2023-07-23T08:01:09.305570Z"
        },
        "trusted": true,
        "id": "zZlKcII9jHW0"
      },
      "execution_count": null,
      "outputs": []
    },
    {
      "cell_type": "code",
      "source": [
        "def load_extract(file):\n",
        "    texts, labels = [], []\n",
        "    for line in file:\n",
        "        x = line.decode('utf-8')  # decode binary to string\n",
        "        labels.append(int(x[9]) - 1)  # extract labels\n",
        "        texts.append(x[10:].strip())  # extract texts\n",
        "    print('Done !')\n",
        "    return np.array(labels), texts"
      ],
      "metadata": {
        "execution": {
          "iopub.status.busy": "2023-07-23T08:01:12.454780Z",
          "iopub.execute_input": "2023-07-23T08:01:12.455198Z",
          "iopub.status.idle": "2023-07-23T08:01:12.462077Z",
          "shell.execute_reply.started": "2023-07-23T08:01:12.455163Z",
          "shell.execute_reply": "2023-07-23T08:01:12.461002Z"
        },
        "trusted": true,
        "id": "zPa3b_wSjHW0"
      },
      "execution_count": null,
      "outputs": []
    },
    {
      "cell_type": "code",
      "source": [
        "train_labels, train_texts = load_extract(train_file)\n",
        "test_labels, test_texts = load_extract(test_file)"
      ],
      "metadata": {
        "execution": {
          "iopub.status.busy": "2023-07-23T08:01:13.272267Z",
          "iopub.execute_input": "2023-07-23T08:01:13.272872Z",
          "iopub.status.idle": "2023-07-23T08:03:57.451617Z",
          "shell.execute_reply.started": "2023-07-23T08:01:13.272839Z",
          "shell.execute_reply": "2023-07-23T08:03:57.450637Z"
        },
        "trusted": true,
        "id": "JxQAQA0HjHW1"
      },
      "execution_count": null,
      "outputs": []
    },
    {
      "cell_type": "code",
      "source": [
        "%time\n",
        "type(train_labels)"
      ],
      "metadata": {
        "execution": {
          "iopub.status.busy": "2023-07-23T08:03:57.453208Z",
          "iopub.execute_input": "2023-07-23T08:03:57.453697Z",
          "iopub.status.idle": "2023-07-23T08:03:57.462354Z",
          "shell.execute_reply.started": "2023-07-23T08:03:57.453668Z",
          "shell.execute_reply": "2023-07-23T08:03:57.461403Z"
        },
        "trusted": true,
        "id": "0Ze43TI6jHW1"
      },
      "execution_count": null,
      "outputs": []
    },
    {
      "cell_type": "code",
      "source": [
        "train_texts[random.randint(0, 1000)]"
      ],
      "metadata": {
        "execution": {
          "iopub.status.busy": "2023-07-23T08:04:51.854353Z",
          "iopub.execute_input": "2023-07-23T08:04:51.854737Z",
          "iopub.status.idle": "2023-07-23T08:04:51.862199Z",
          "shell.execute_reply.started": "2023-07-23T08:04:51.854688Z",
          "shell.execute_reply": "2023-07-23T08:04:51.861074Z"
        },
        "trusted": true,
        "id": "6B3QdnqsjHW2"
      },
      "execution_count": null,
      "outputs": []
    },
    {
      "cell_type": "code",
      "source": [
        "import re\n",
        "\n",
        "def remove_urls(text):\n",
        "    # Regular expression pattern to match URLs with http(s) and www\n",
        "    url_pattern = r'http[s]?://(?:[a-zA-Z]|[0-9]|[$-_@.&+]|[!*\\\\(\\\\),]|(?:%[0-9a-fA-F][0-9a-fA-F]))+|www\\.[a-zA-Z0-9_-]+(?:\\.[a-zA-Z0-9_-]+)+'\n",
        "\n",
        "    # Remove URLs and links from the text\n",
        "    return re.sub(url_pattern, '', text)\n"
      ],
      "metadata": {
        "execution": {
          "iopub.status.busy": "2023-07-23T08:04:56.412840Z",
          "iopub.execute_input": "2023-07-23T08:04:56.413964Z",
          "iopub.status.idle": "2023-07-23T08:04:56.420206Z",
          "shell.execute_reply.started": "2023-07-23T08:04:56.413912Z",
          "shell.execute_reply": "2023-07-23T08:04:56.418942Z"
        },
        "trusted": true,
        "id": "xZTdk-wjjHW2"
      },
      "execution_count": null,
      "outputs": []
    },
    {
      "cell_type": "code",
      "source": [
        "for i in range(1000):\n",
        "    if 'www' in train_texts[i]:\n",
        "        print('yes' , i)"
      ],
      "metadata": {
        "execution": {
          "iopub.status.busy": "2023-07-23T08:04:57.225409Z",
          "iopub.execute_input": "2023-07-23T08:04:57.225771Z",
          "iopub.status.idle": "2023-07-23T08:04:57.231679Z",
          "shell.execute_reply.started": "2023-07-23T08:04:57.225743Z",
          "shell.execute_reply": "2023-07-23T08:04:57.230851Z"
        },
        "trusted": true,
        "id": "vOolsdT6jHW3"
      },
      "execution_count": null,
      "outputs": []
    },
    {
      "cell_type": "code",
      "source": [
        "print('\\033[91m',train_texts[193])\n",
        "print('\\033[92m' , remove_urls(train_texts[193]))"
      ],
      "metadata": {
        "execution": {
          "iopub.status.busy": "2023-07-23T08:04:58.525887Z",
          "iopub.execute_input": "2023-07-23T08:04:58.527191Z",
          "iopub.status.idle": "2023-07-23T08:04:58.533756Z",
          "shell.execute_reply.started": "2023-07-23T08:04:58.527149Z",
          "shell.execute_reply": "2023-07-23T08:04:58.532409Z"
        },
        "trusted": true,
        "id": "7QFAdnlPjHW3"
      },
      "execution_count": null,
      "outputs": []
    },
    {
      "cell_type": "code",
      "source": [
        "def remove_nonalpha(text):\n",
        "    return re.sub('[^a-zA-Z]', ' ', text)"
      ],
      "metadata": {
        "execution": {
          "iopub.status.busy": "2023-07-23T08:05:01.107533Z",
          "iopub.execute_input": "2023-07-23T08:05:01.108654Z",
          "iopub.status.idle": "2023-07-23T08:05:01.115233Z",
          "shell.execute_reply.started": "2023-07-23T08:05:01.108597Z",
          "shell.execute_reply": "2023-07-23T08:05:01.113984Z"
        },
        "trusted": true,
        "id": "J85N4FsUjHW3"
      },
      "execution_count": null,
      "outputs": []
    },
    {
      "cell_type": "markdown",
      "source": [
        "> The given code uses the re.sub() function from the re module in Python to replace all characters in the text string that are not alphabetic letters (both uppercase and lowercase) with a space.\n",
        "> For example, if text contains the string \"Hello, 123 World!\", after executing text = re.sub('[^a-zA-Z]', ' ', text), the value of text will be \"Hello World \". The digits and the comma have been replaced with spaces, and only the letters remain in the modified text."
      ],
      "metadata": {
        "id": "XRYctXEejHW3"
      }
    },
    {
      "cell_type": "code",
      "source": [
        "from nltk.corpus import stopwords\n",
        "from nltk.tokenize import word_tokenize\n",
        "\n",
        "stop_words = set(stopwords.words('english'))\n",
        "new_text=[]\n",
        "\n"
      ],
      "metadata": {
        "execution": {
          "iopub.status.busy": "2023-07-23T08:05:03.896731Z",
          "iopub.execute_input": "2023-07-23T08:05:03.897171Z",
          "iopub.status.idle": "2023-07-23T08:05:03.908291Z",
          "shell.execute_reply.started": "2023-07-23T08:05:03.897133Z",
          "shell.execute_reply": "2023-07-23T08:05:03.907151Z"
        },
        "trusted": true,
        "id": "sefoHyk-jHW5"
      },
      "execution_count": null,
      "outputs": []
    },
    {
      "cell_type": "code",
      "source": [
        "\n",
        "def process(text):\n",
        "    a =  remove_urls(text)\n",
        "    b =  remove_nonalpha(a).lower()\n",
        "    word_tokens = word_tokenize(b)\n",
        "# converts the words in word_tokens to lower case and then checks whether\n",
        "#they are present in stop_words or not\n",
        "    filtered_sentence = [w for w in word_tokens if not w.lower() in stop_words]\n",
        "#with no lower case conversion\n",
        "    filtered_sentence = []\n",
        "\n",
        "    for w in word_tokens:\n",
        "        if w not in stop_words:\n",
        "            filtered_sentence.append(w)\n",
        "\n",
        "    new_text.append(filtered_sentence)"
      ],
      "metadata": {
        "execution": {
          "iopub.status.busy": "2023-07-23T08:05:10.709636Z",
          "iopub.execute_input": "2023-07-23T08:05:10.710013Z",
          "iopub.status.idle": "2023-07-23T08:05:10.717140Z",
          "shell.execute_reply.started": "2023-07-23T08:05:10.709984Z",
          "shell.execute_reply": "2023-07-23T08:05:10.715812Z"
        },
        "trusted": true,
        "id": "pSrMXldmjHW5"
      },
      "execution_count": null,
      "outputs": []
    },
    {
      "cell_type": "code",
      "source": [
        "len(train_texts)"
      ],
      "metadata": {
        "execution": {
          "iopub.status.busy": "2023-07-23T09:08:58.807039Z",
          "iopub.execute_input": "2023-07-23T09:08:58.807437Z",
          "iopub.status.idle": "2023-07-23T09:08:58.815140Z",
          "shell.execute_reply.started": "2023-07-23T09:08:58.807407Z",
          "shell.execute_reply": "2023-07-23T09:08:58.813778Z"
        },
        "trusted": true,
        "id": "npGDADgNjHW5",
        "outputId": "fdb5ad7e-39fa-4c68-ff03-28cb19ff941e"
      },
      "execution_count": null,
      "outputs": [
        {
          "execution_count": 67,
          "output_type": "execute_result",
          "data": {
            "text/plain": "3600000"
          },
          "metadata": {}
        }
      ]
    },
    {
      "cell_type": "code",
      "source": [
        "for i in range(1000000):\n",
        "    process(train_texts[i])\n",
        "    if i%100000 == 0:\n",
        "        print((i/10000), '%')"
      ],
      "metadata": {
        "execution": {
          "iopub.status.busy": "2023-07-23T08:05:24.108685Z",
          "iopub.execute_input": "2023-07-23T08:05:24.109078Z",
          "iopub.status.idle": "2023-07-23T08:20:09.612635Z",
          "shell.execute_reply.started": "2023-07-23T08:05:24.109032Z",
          "shell.execute_reply": "2023-07-23T08:20:09.611410Z"
        },
        "trusted": true,
        "id": "htEmTrFqjHW6"
      },
      "execution_count": null,
      "outputs": []
    },
    {
      "cell_type": "code",
      "source": [
        "print(len(new_text))"
      ],
      "metadata": {
        "execution": {
          "iopub.status.busy": "2023-07-23T09:09:03.628097Z",
          "iopub.execute_input": "2023-07-23T09:09:03.629356Z",
          "iopub.status.idle": "2023-07-23T09:09:03.635751Z",
          "shell.execute_reply.started": "2023-07-23T09:09:03.629300Z",
          "shell.execute_reply": "2023-07-23T09:09:03.634624Z"
        },
        "trusted": true,
        "id": "5SdCi6NkjHW6",
        "outputId": "078ecb62-cae9-4b4c-e60a-d45d7f6cc1eb"
      },
      "execution_count": null,
      "outputs": [
        {
          "name": "stdout",
          "text": "1000000\n",
          "output_type": "stream"
        }
      ]
    },
    {
      "cell_type": "code",
      "source": [
        "train_texts[0]"
      ],
      "metadata": {
        "execution": {
          "iopub.status.busy": "2023-07-23T09:10:13.150095Z",
          "iopub.execute_input": "2023-07-23T09:10:13.150528Z",
          "iopub.status.idle": "2023-07-23T09:10:13.158901Z",
          "shell.execute_reply.started": "2023-07-23T09:10:13.150494Z",
          "shell.execute_reply": "2023-07-23T09:10:13.157649Z"
        },
        "trusted": true,
        "id": "W-vUvSxwjHW6",
        "outputId": "18411a69-d6d7-44d7-d668-18638fe59d5b"
      },
      "execution_count": null,
      "outputs": [
        {
          "execution_count": 70,
          "output_type": "execute_result",
          "data": {
            "text/plain": "'Stuning even for the non-gamer: This sound track was beautiful! It paints the senery in your mind so well I would recomend it even to people who hate vid. game music! I have played the game Chrono Cross but out of all of the games I have ever played it has the best music! It backs away from crude keyboarding and takes a fresher step with grate guitars and soulful orchestras. It would impress anyone who cares to listen! ^_^'"
          },
          "metadata": {}
        }
      ]
    },
    {
      "cell_type": "code",
      "source": [
        "new_text[0]"
      ],
      "metadata": {
        "execution": {
          "iopub.status.busy": "2023-07-23T09:10:00.558778Z",
          "iopub.execute_input": "2023-07-23T09:10:00.559340Z",
          "iopub.status.idle": "2023-07-23T09:10:00.568636Z",
          "shell.execute_reply.started": "2023-07-23T09:10:00.559297Z",
          "shell.execute_reply": "2023-07-23T09:10:00.567323Z"
        },
        "trusted": true,
        "id": "x9kDj4eajHW6",
        "outputId": "925efe75-f927-438e-93a6-353a8639bb22"
      },
      "execution_count": null,
      "outputs": [
        {
          "execution_count": 69,
          "output_type": "execute_result",
          "data": {
            "text/plain": "['stuning',\n 'even',\n 'non',\n 'gamer',\n 'sound',\n 'track',\n 'beautiful',\n 'paints',\n 'senery',\n 'mind',\n 'well',\n 'would',\n 'recomend',\n 'even',\n 'people',\n 'hate',\n 'vid',\n 'game',\n 'music',\n 'played',\n 'game',\n 'chrono',\n 'cross',\n 'games',\n 'ever',\n 'played',\n 'best',\n 'music',\n 'backs',\n 'away',\n 'crude',\n 'keyboarding',\n 'takes',\n 'fresher',\n 'step',\n 'grate',\n 'guitars',\n 'soulful',\n 'orchestras',\n 'would',\n 'impress',\n 'anyone',\n 'cares',\n 'listen']"
          },
          "metadata": {}
        }
      ]
    },
    {
      "cell_type": "code",
      "source": [
        "new_testtext= []\n",
        "def process(text):\n",
        "    a =  remove_urls(text)\n",
        "    b =  remove_nonalpha(a).lower()\n",
        "    word_tokens = word_tokenize(b)\n",
        "# converts the words in word_tokens to lower case and then checks whether\n",
        "#they are present in stop_words or not\n",
        "    filtered_sentence = [w for w in word_tokens if not w.lower() in stop_words]\n",
        "#with no lower case conversion\n",
        "    filtered_sentence = []\n",
        "\n",
        "    for w in word_tokens:\n",
        "        if w not in stop_words:\n",
        "            filtered_sentence.append(w)\n",
        "\n",
        "    new_testtext.append(filtered_sentence)"
      ],
      "metadata": {
        "execution": {
          "iopub.status.busy": "2023-07-23T08:20:09.623152Z",
          "iopub.execute_input": "2023-07-23T08:20:09.623595Z",
          "iopub.status.idle": "2023-07-23T08:20:09.637129Z",
          "shell.execute_reply.started": "2023-07-23T08:20:09.623556Z",
          "shell.execute_reply": "2023-07-23T08:20:09.636109Z"
        },
        "trusted": true,
        "id": "sx5_xxvFjHW6"
      },
      "execution_count": null,
      "outputs": []
    },
    {
      "cell_type": "code",
      "source": [
        "for i in range(200000):\n",
        "    process(test_texts[i])\n",
        "    if i%20000 == 0:\n",
        "        print((i/2000), '%')"
      ],
      "metadata": {
        "execution": {
          "iopub.status.busy": "2023-07-23T08:20:09.640002Z",
          "iopub.execute_input": "2023-07-23T08:20:09.640389Z"
        },
        "trusted": true,
        "id": "zs7NR1KojHW7"
      },
      "execution_count": null,
      "outputs": []
    },
    {
      "cell_type": "code",
      "source": [
        "print(len(new_text))\n",
        "print(len(new_testtext))"
      ],
      "metadata": {
        "execution": {
          "iopub.status.busy": "2023-07-23T08:32:11.201577Z",
          "iopub.execute_input": "2023-07-23T08:32:11.201986Z",
          "iopub.status.idle": "2023-07-23T08:32:11.207607Z",
          "shell.execute_reply.started": "2023-07-23T08:32:11.201943Z",
          "shell.execute_reply": "2023-07-23T08:32:11.206502Z"
        },
        "trusted": true,
        "id": "l8OvEdyEjHW7",
        "outputId": "98ed11b3-985b-45b7-bb31-9a72b44df6e2"
      },
      "execution_count": null,
      "outputs": [
        {
          "name": "stdout",
          "text": "1000000\n200000\n",
          "output_type": "stream"
        }
      ]
    },
    {
      "cell_type": "code",
      "source": [
        "def build_string_from_words(word_list):\n",
        "    # Join the words in the list with a space separator\n",
        "    return ' '.join(word_list)\n"
      ],
      "metadata": {
        "execution": {
          "iopub.status.busy": "2023-07-23T08:32:17.730427Z",
          "iopub.execute_input": "2023-07-23T08:32:17.730879Z",
          "iopub.status.idle": "2023-07-23T08:32:17.737216Z",
          "shell.execute_reply.started": "2023-07-23T08:32:17.730843Z",
          "shell.execute_reply": "2023-07-23T08:32:17.735809Z"
        },
        "trusted": true,
        "id": "XCy7191JjHW7"
      },
      "execution_count": null,
      "outputs": []
    },
    {
      "cell_type": "code",
      "source": [
        "trainlist=[]\n",
        "for i in range(1000000):\n",
        "    trainlist.append(build_string_from_words(new_text[i]))\n",
        "    if i%100000 == 0:\n",
        "        print((i/10000), '%')"
      ],
      "metadata": {
        "execution": {
          "iopub.status.busy": "2023-07-23T08:32:19.197276Z",
          "iopub.execute_input": "2023-07-23T08:32:19.197645Z",
          "iopub.status.idle": "2023-07-23T08:32:21.874196Z",
          "shell.execute_reply.started": "2023-07-23T08:32:19.197617Z",
          "shell.execute_reply": "2023-07-23T08:32:21.873018Z"
        },
        "trusted": true,
        "id": "o38j5P1NjHW7",
        "outputId": "f9efeb32-b6c0-462a-b045-5f9f39f856a0"
      },
      "execution_count": null,
      "outputs": [
        {
          "name": "stdout",
          "text": "0.0 %\n10.0 %\n20.0 %\n30.0 %\n40.0 %\n50.0 %\n60.0 %\n70.0 %\n80.0 %\n90.0 %\n",
          "output_type": "stream"
        }
      ]
    },
    {
      "cell_type": "code",
      "source": [
        "testlist=[]\n",
        "for i in range(200000):\n",
        "    testlist.append(build_string_from_words(new_testtext[i]))\n",
        "    if i%20000 == 0:\n",
        "        print((i/2000), '%')"
      ],
      "metadata": {
        "execution": {
          "iopub.status.busy": "2023-07-23T08:32:24.248035Z",
          "iopub.execute_input": "2023-07-23T08:32:24.248447Z",
          "iopub.status.idle": "2023-07-23T08:32:24.785244Z",
          "shell.execute_reply.started": "2023-07-23T08:32:24.248413Z",
          "shell.execute_reply": "2023-07-23T08:32:24.783958Z"
        },
        "trusted": true,
        "id": "Ggat-ErxjHW7",
        "outputId": "f8b878b7-32eb-4b2e-9038-ba3727385f80"
      },
      "execution_count": null,
      "outputs": [
        {
          "name": "stdout",
          "text": "0.0 %\n10.0 %\n20.0 %\n30.0 %\n40.0 %\n50.0 %\n60.0 %\n70.0 %\n80.0 %\n90.0 %\n",
          "output_type": "stream"
        }
      ]
    },
    {
      "cell_type": "code",
      "source": [
        "from sklearn.feature_extraction.text import CountVectorizer\n",
        "\n",
        "print('Fitting data...')\n",
        "count_vect = CountVectorizer()\n",
        "count_vect.fit(trainlist) ; print('fit complete !')\n",
        "\n",
        "print('tranforming training set...')\n",
        "train_texts_vec = count_vect.transform(trainlist)\n",
        "\n",
        "print('tranforming test set...')\n",
        "test_texts_vec = count_vect.transform(testlist)"
      ],
      "metadata": {
        "execution": {
          "iopub.status.busy": "2023-07-23T08:32:48.611985Z",
          "iopub.execute_input": "2023-07-23T08:32:48.612421Z",
          "iopub.status.idle": "2023-07-23T08:34:53.817759Z",
          "shell.execute_reply.started": "2023-07-23T08:32:48.612387Z",
          "shell.execute_reply": "2023-07-23T08:34:53.816239Z"
        },
        "trusted": true,
        "id": "JLcxfFDvjHW7",
        "outputId": "002e8b95-36b7-4219-ae48-f28091bac8a8"
      },
      "execution_count": null,
      "outputs": [
        {
          "name": "stdout",
          "text": "Fitting data...\nfit complete !\ntranforming training set...\ntranforming test set...\n",
          "output_type": "stream"
        }
      ]
    },
    {
      "cell_type": "code",
      "source": [
        "print(type(train_texts_vec))"
      ],
      "metadata": {
        "execution": {
          "iopub.status.busy": "2023-07-23T08:35:53.145559Z",
          "iopub.execute_input": "2023-07-23T08:35:53.145939Z",
          "iopub.status.idle": "2023-07-23T08:35:53.152734Z",
          "shell.execute_reply.started": "2023-07-23T08:35:53.145909Z",
          "shell.execute_reply": "2023-07-23T08:35:53.151533Z"
        },
        "trusted": true,
        "id": "VMOkvlvPjHW7",
        "outputId": "e6d2754b-95b7-46eb-905d-74e746108586"
      },
      "execution_count": null,
      "outputs": [
        {
          "name": "stdout",
          "text": "<class 'scipy.sparse.csr.csr_matrix'>\n",
          "output_type": "stream"
        }
      ]
    },
    {
      "cell_type": "code",
      "source": [
        "train_labels2 = train_labels[:1000000]"
      ],
      "metadata": {
        "execution": {
          "iopub.status.busy": "2023-07-23T08:39:06.521006Z",
          "iopub.execute_input": "2023-07-23T08:39:06.521442Z",
          "iopub.status.idle": "2023-07-23T08:39:06.526945Z",
          "shell.execute_reply.started": "2023-07-23T08:39:06.521404Z",
          "shell.execute_reply": "2023-07-23T08:39:06.525726Z"
        },
        "trusted": true,
        "id": "YXCuRz7njHW8"
      },
      "execution_count": null,
      "outputs": []
    },
    {
      "cell_type": "code",
      "source": [
        "from sklearn.linear_model import LogisticRegression\n",
        "\n",
        "lr_model = LogisticRegression(max_iter = 1000)\n",
        "lr_model.fit(train_texts_vec, train_labels2)"
      ],
      "metadata": {
        "execution": {
          "iopub.status.busy": "2023-07-23T08:47:32.896587Z",
          "iopub.execute_input": "2023-07-23T08:47:32.896984Z",
          "iopub.status.idle": "2023-07-23T08:56:12.950755Z",
          "shell.execute_reply.started": "2023-07-23T08:47:32.896953Z",
          "shell.execute_reply": "2023-07-23T08:56:12.949648Z"
        },
        "trusted": true,
        "id": "21m5XsLUjHW8"
      },
      "execution_count": null,
      "outputs": []
    },
    {
      "cell_type": "code",
      "source": [
        "test_labels2 = test_labels[:200000]"
      ],
      "metadata": {
        "execution": {
          "iopub.status.busy": "2023-07-23T08:56:22.501105Z",
          "iopub.execute_input": "2023-07-23T08:56:22.501499Z",
          "iopub.status.idle": "2023-07-23T08:56:22.507027Z",
          "shell.execute_reply.started": "2023-07-23T08:56:22.501469Z",
          "shell.execute_reply": "2023-07-23T08:56:22.505849Z"
        },
        "trusted": true,
        "id": "nkeBFyTojHW8"
      },
      "execution_count": null,
      "outputs": []
    },
    {
      "cell_type": "code",
      "source": [
        "pred_lr = lr_model.predict(test_texts_vec)"
      ],
      "metadata": {
        "execution": {
          "iopub.status.busy": "2023-07-23T08:56:24.743778Z",
          "iopub.execute_input": "2023-07-23T08:56:24.744316Z",
          "iopub.status.idle": "2023-07-23T08:56:24.795504Z",
          "shell.execute_reply.started": "2023-07-23T08:56:24.744275Z",
          "shell.execute_reply": "2023-07-23T08:56:24.794173Z"
        },
        "trusted": true,
        "id": "Jwme0XHsjHW8"
      },
      "execution_count": null,
      "outputs": []
    },
    {
      "cell_type": "code",
      "source": [
        "from sklearn.metrics import accuracy_score\n",
        "print('Accuracy:', accuracy_score(test_labels2, pred_lr))"
      ],
      "metadata": {
        "execution": {
          "iopub.status.busy": "2023-07-23T08:57:16.000513Z",
          "iopub.execute_input": "2023-07-23T08:57:16.000943Z",
          "iopub.status.idle": "2023-07-23T08:57:16.028935Z",
          "shell.execute_reply.started": "2023-07-23T08:57:16.000907Z",
          "shell.execute_reply": "2023-07-23T08:57:16.028108Z"
        },
        "trusted": true,
        "id": "ndpqlSz9jHW8",
        "outputId": "e54401db-a67c-4ed8-f522-1343a02d269d"
      },
      "execution_count": null,
      "outputs": [
        {
          "name": "stdout",
          "text": "Accuracy: 0.89287\n",
          "output_type": "stream"
        }
      ]
    },
    {
      "cell_type": "code",
      "source": [
        "from nltk.stem import PorterStemmer\n",
        "from nltk.tokenize import word_tokenize\n",
        "from functools import reduce\n",
        "\n",
        "def stem(sentece):\n",
        "    ps = PorterStemmer()\n",
        "\n",
        "    words = word_tokenize(sentence)\n",
        "\n",
        "    # using reduce to apply stemmer to each word and join them back into a string\n",
        "    train_stemlist.append(reduce(lambda x, y: x + \" \" + ps.stem(y), words, \"\"))"
      ],
      "metadata": {
        "execution": {
          "iopub.status.busy": "2023-07-23T09:03:54.865068Z",
          "iopub.execute_input": "2023-07-23T09:03:54.865464Z",
          "iopub.status.idle": "2023-07-23T09:03:54.872174Z",
          "shell.execute_reply.started": "2023-07-23T09:03:54.865435Z",
          "shell.execute_reply": "2023-07-23T09:03:54.870751Z"
        },
        "trusted": true,
        "id": "iglT0_DBjHW8"
      },
      "execution_count": null,
      "outputs": []
    },
    {
      "cell_type": "markdown",
      "source": [
        "> you can use steaming for better result, using above code sample"
      ],
      "metadata": {
        "id": "PmzFseIEjHW9"
      }
    }
  ]
}